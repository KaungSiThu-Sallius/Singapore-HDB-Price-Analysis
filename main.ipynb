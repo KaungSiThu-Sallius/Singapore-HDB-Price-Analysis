{
 "cells": [
  {
   "cell_type": "markdown",
   "metadata": {},
   "source": [
    "# Singapore HDB Price Analysis (2024) (Using SQL)"
   ]
  },
  {
   "cell_type": "raw",
   "metadata": {
    "vscode": {
     "languageId": "raw"
    }
   },
   "source": [
    "Q1: Which town has the highest average resale price?\n",
    "Q2: How do resale prices trend over time?\n",
    "Q3: Which flat type (3-room, 4-room, etc.) is most expensive?\n",
    "Q4: Which towns have average resale prices higher than the national average?\n",
    "Q5: Find flats where the price is 20% higher than the average price in their town.\n",
    "Q6: Compare each month’s average price to the previous month using subqueries."
   ]
  },
  {
   "cell_type": "code",
   "execution_count": 120,
   "metadata": {},
   "outputs": [],
   "source": [
    "import pandas as pd\n",
    "import sqlite3"
   ]
  },
  {
   "cell_type": "code",
   "execution_count": 121,
   "metadata": {},
   "outputs": [],
   "source": [
    "df = pd.read_csv('HDB_faltData.csv')\n",
    "df['month'] = pd.to_datetime(df['month'])\n",
    "df.rename(columns={\n",
    "    'month': 'date'\n",
    "}, inplace=True)\n",
    "df = df[(df['date'] >= '2024-01-01') & (df['date'] < '2025-01-01')]"
   ]
  },
  {
   "cell_type": "code",
   "execution_count": 122,
   "metadata": {},
   "outputs": [
    {
     "data": {
      "text/plain": [
       "27852"
      ]
     },
     "execution_count": 122,
     "metadata": {},
     "output_type": "execute_result"
    }
   ],
   "source": [
    "conn = sqlite3.connect('flatData.db')\n",
    "df.to_sql('flat_data', conn, if_exists='replace', index=False)"
   ]
  },
  {
   "cell_type": "code",
   "execution_count": 123,
   "metadata": {},
   "outputs": [
    {
     "data": {
      "text/html": [
       "<div>\n",
       "<style scoped>\n",
       "    .dataframe tbody tr th:only-of-type {\n",
       "        vertical-align: middle;\n",
       "    }\n",
       "\n",
       "    .dataframe tbody tr th {\n",
       "        vertical-align: top;\n",
       "    }\n",
       "\n",
       "    .dataframe thead th {\n",
       "        text-align: right;\n",
       "    }\n",
       "</style>\n",
       "<table border=\"1\" class=\"dataframe\">\n",
       "  <thead>\n",
       "    <tr style=\"text-align: right;\">\n",
       "      <th></th>\n",
       "      <th>date</th>\n",
       "      <th>town</th>\n",
       "      <th>flat_type</th>\n",
       "      <th>block</th>\n",
       "      <th>street_name</th>\n",
       "      <th>storey_range</th>\n",
       "      <th>floor_area_sqm</th>\n",
       "      <th>flat_model</th>\n",
       "      <th>lease_commence_date</th>\n",
       "      <th>remaining_lease</th>\n",
       "      <th>resale_price</th>\n",
       "    </tr>\n",
       "  </thead>\n",
       "  <tbody>\n",
       "    <tr>\n",
       "      <th>0</th>\n",
       "      <td>2024-02-01 00:00:00</td>\n",
       "      <td>ANG MO KIO</td>\n",
       "      <td>2 ROOM</td>\n",
       "      <td>406</td>\n",
       "      <td>ANG MO KIO AVE 10</td>\n",
       "      <td>01 TO 03</td>\n",
       "      <td>44.0</td>\n",
       "      <td>Improved</td>\n",
       "      <td>1979</td>\n",
       "      <td>54 years 04 months</td>\n",
       "      <td>285000.0</td>\n",
       "    </tr>\n",
       "    <tr>\n",
       "      <th>1</th>\n",
       "      <td>2024-12-01 00:00:00</td>\n",
       "      <td>ANG MO KIO</td>\n",
       "      <td>2 ROOM</td>\n",
       "      <td>406</td>\n",
       "      <td>ANG MO KIO AVE 10</td>\n",
       "      <td>04 TO 06</td>\n",
       "      <td>44.0</td>\n",
       "      <td>Improved</td>\n",
       "      <td>1979</td>\n",
       "      <td>53 years 07 months</td>\n",
       "      <td>320000.0</td>\n",
       "    </tr>\n",
       "    <tr>\n",
       "      <th>2</th>\n",
       "      <td>2024-02-01 00:00:00</td>\n",
       "      <td>ANG MO KIO</td>\n",
       "      <td>2 ROOM</td>\n",
       "      <td>323</td>\n",
       "      <td>ANG MO KIO AVE 3</td>\n",
       "      <td>04 TO 06</td>\n",
       "      <td>44.0</td>\n",
       "      <td>Improved</td>\n",
       "      <td>1977</td>\n",
       "      <td>52 years 05 months</td>\n",
       "      <td>293000.0</td>\n",
       "    </tr>\n",
       "    <tr>\n",
       "      <th>3</th>\n",
       "      <td>2024-02-01 00:00:00</td>\n",
       "      <td>ANG MO KIO</td>\n",
       "      <td>2 ROOM</td>\n",
       "      <td>314</td>\n",
       "      <td>ANG MO KIO AVE 3</td>\n",
       "      <td>01 TO 03</td>\n",
       "      <td>44.0</td>\n",
       "      <td>Improved</td>\n",
       "      <td>1978</td>\n",
       "      <td>52 years 11 months</td>\n",
       "      <td>303000.0</td>\n",
       "    </tr>\n",
       "    <tr>\n",
       "      <th>4</th>\n",
       "      <td>2024-04-01 00:00:00</td>\n",
       "      <td>ANG MO KIO</td>\n",
       "      <td>2 ROOM</td>\n",
       "      <td>314</td>\n",
       "      <td>ANG MO KIO AVE 3</td>\n",
       "      <td>01 TO 03</td>\n",
       "      <td>44.0</td>\n",
       "      <td>Improved</td>\n",
       "      <td>1978</td>\n",
       "      <td>52 years 10 months</td>\n",
       "      <td>288000.0</td>\n",
       "    </tr>\n",
       "  </tbody>\n",
       "</table>\n",
       "</div>"
      ],
      "text/plain": [
       "                  date        town flat_type block        street_name  \\\n",
       "0  2024-02-01 00:00:00  ANG MO KIO    2 ROOM   406  ANG MO KIO AVE 10   \n",
       "1  2024-12-01 00:00:00  ANG MO KIO    2 ROOM   406  ANG MO KIO AVE 10   \n",
       "2  2024-02-01 00:00:00  ANG MO KIO    2 ROOM   323   ANG MO KIO AVE 3   \n",
       "3  2024-02-01 00:00:00  ANG MO KIO    2 ROOM   314   ANG MO KIO AVE 3   \n",
       "4  2024-04-01 00:00:00  ANG MO KIO    2 ROOM   314   ANG MO KIO AVE 3   \n",
       "\n",
       "  storey_range  floor_area_sqm flat_model  lease_commence_date  \\\n",
       "0     01 TO 03            44.0   Improved                 1979   \n",
       "1     04 TO 06            44.0   Improved                 1979   \n",
       "2     04 TO 06            44.0   Improved                 1977   \n",
       "3     01 TO 03            44.0   Improved                 1978   \n",
       "4     01 TO 03            44.0   Improved                 1978   \n",
       "\n",
       "      remaining_lease  resale_price  \n",
       "0  54 years 04 months      285000.0  \n",
       "1  53 years 07 months      320000.0  \n",
       "2  52 years 05 months      293000.0  \n",
       "3  52 years 11 months      303000.0  \n",
       "4  52 years 10 months      288000.0  "
      ]
     },
     "execution_count": 123,
     "metadata": {},
     "output_type": "execute_result"
    }
   ],
   "source": [
    "query = 'select * from flat_data limit 5'\n",
    "pd.read_sql(query, conn)"
   ]
  },
  {
   "cell_type": "markdown",
   "metadata": {},
   "source": [
    "## Q1: Which top 5 town has the highest average resale price?"
   ]
  },
  {
   "cell_type": "code",
   "execution_count": 124,
   "metadata": {},
   "outputs": [
    {
     "data": {
      "text/html": [
       "<div>\n",
       "<style scoped>\n",
       "    .dataframe tbody tr th:only-of-type {\n",
       "        vertical-align: middle;\n",
       "    }\n",
       "\n",
       "    .dataframe tbody tr th {\n",
       "        vertical-align: top;\n",
       "    }\n",
       "\n",
       "    .dataframe thead th {\n",
       "        text-align: right;\n",
       "    }\n",
       "</style>\n",
       "<table border=\"1\" class=\"dataframe\">\n",
       "  <thead>\n",
       "    <tr style=\"text-align: right;\">\n",
       "      <th></th>\n",
       "      <th>town</th>\n",
       "      <th>avg_resale_price</th>\n",
       "    </tr>\n",
       "  </thead>\n",
       "  <tbody>\n",
       "    <tr>\n",
       "      <th>0</th>\n",
       "      <td>BUKIT TIMAH</td>\n",
       "      <td>883392.77</td>\n",
       "    </tr>\n",
       "    <tr>\n",
       "      <th>1</th>\n",
       "      <td>BISHAN</td>\n",
       "      <td>830693.71</td>\n",
       "    </tr>\n",
       "    <tr>\n",
       "      <th>2</th>\n",
       "      <td>CENTRAL AREA</td>\n",
       "      <td>757515.75</td>\n",
       "    </tr>\n",
       "    <tr>\n",
       "      <th>3</th>\n",
       "      <td>BUKIT MERAH</td>\n",
       "      <td>724272.81</td>\n",
       "    </tr>\n",
       "    <tr>\n",
       "      <th>4</th>\n",
       "      <td>PASIR RIS</td>\n",
       "      <td>703587.85</td>\n",
       "    </tr>\n",
       "  </tbody>\n",
       "</table>\n",
       "</div>"
      ],
      "text/plain": [
       "           town  avg_resale_price\n",
       "0   BUKIT TIMAH         883392.77\n",
       "1        BISHAN         830693.71\n",
       "2  CENTRAL AREA         757515.75\n",
       "3   BUKIT MERAH         724272.81\n",
       "4     PASIR RIS         703587.85"
      ]
     },
     "execution_count": 124,
     "metadata": {},
     "output_type": "execute_result"
    }
   ],
   "source": [
    "query = 'select town, round(avg(resale_price),2) as avg_resale_price from flat_data group by town order by avg_resale_price desc limit 5'\n",
    "pd.read_sql(query, conn)"
   ]
  },
  {
   "cell_type": "markdown",
   "metadata": {},
   "source": [
    "Highest average resale price: **BUKIT TIMAH** (SGD 883k) "
   ]
  },
  {
   "cell_type": "markdown",
   "metadata": {},
   "source": [
    "## Q2: How do resale prices trend over time?"
   ]
  },
  {
   "cell_type": "code",
   "execution_count": 148,
   "metadata": {},
   "outputs": [],
   "source": [
    "query = 'select strftime(\"%m\", date) as month, round(avg(resale_price),2) as avg_flat_price from flat_data group by strftime(\"%m\", date)'\n",
    "trend = pd.read_sql(query, conn)"
   ]
  },
  {
   "cell_type": "code",
   "execution_count": 147,
   "metadata": {},
   "outputs": [
    {
     "name": "stdout",
     "output_type": "stream",
     "text": [
      "The price incresed by 7%.\n"
     ]
    }
   ],
   "source": [
    "price_Jan = trend.iloc[0]['avg_flat_price']\n",
    "price_Dec = trend.iloc[-2]['avg_flat_price']\n",
    "price_increase_percent = round(((price_Dec - price_Jan) / price_Jan) * 100)\n",
    "print(f'The price incresed by {price_increase_percent}%.')"
   ]
  },
  {
   "cell_type": "markdown",
   "metadata": {},
   "source": [
    "Prices increased by **7% YoY** from JAN to DEC during 2024.  "
   ]
  },
  {
   "cell_type": "markdown",
   "metadata": {},
   "source": [
    "## Q3: Which flat type is most expensive?"
   ]
  },
  {
   "cell_type": "code",
   "execution_count": 127,
   "metadata": {},
   "outputs": [
    {
     "data": {
      "text/html": [
       "<div>\n",
       "<style scoped>\n",
       "    .dataframe tbody tr th:only-of-type {\n",
       "        vertical-align: middle;\n",
       "    }\n",
       "\n",
       "    .dataframe tbody tr th {\n",
       "        vertical-align: top;\n",
       "    }\n",
       "\n",
       "    .dataframe thead th {\n",
       "        text-align: right;\n",
       "    }\n",
       "</style>\n",
       "<table border=\"1\" class=\"dataframe\">\n",
       "  <thead>\n",
       "    <tr style=\"text-align: right;\">\n",
       "      <th></th>\n",
       "      <th>flat_type</th>\n",
       "      <th>avg_flat_price</th>\n",
       "    </tr>\n",
       "  </thead>\n",
       "  <tbody>\n",
       "    <tr>\n",
       "      <th>0</th>\n",
       "      <td>MULTI-GENERATION</td>\n",
       "      <td>1049000.00</td>\n",
       "    </tr>\n",
       "    <tr>\n",
       "      <th>1</th>\n",
       "      <td>EXECUTIVE</td>\n",
       "      <td>874650.59</td>\n",
       "    </tr>\n",
       "    <tr>\n",
       "      <th>2</th>\n",
       "      <td>5 ROOM</td>\n",
       "      <td>728615.22</td>\n",
       "    </tr>\n",
       "    <tr>\n",
       "      <th>3</th>\n",
       "      <td>4 ROOM</td>\n",
       "      <td>627382.84</td>\n",
       "    </tr>\n",
       "    <tr>\n",
       "      <th>4</th>\n",
       "      <td>3 ROOM</td>\n",
       "      <td>439910.47</td>\n",
       "    </tr>\n",
       "    <tr>\n",
       "      <th>5</th>\n",
       "      <td>2 ROOM</td>\n",
       "      <td>340847.70</td>\n",
       "    </tr>\n",
       "    <tr>\n",
       "      <th>6</th>\n",
       "      <td>1 ROOM</td>\n",
       "      <td>253363.64</td>\n",
       "    </tr>\n",
       "  </tbody>\n",
       "</table>\n",
       "</div>"
      ],
      "text/plain": [
       "          flat_type  avg_flat_price\n",
       "0  MULTI-GENERATION      1049000.00\n",
       "1         EXECUTIVE       874650.59\n",
       "2            5 ROOM       728615.22\n",
       "3            4 ROOM       627382.84\n",
       "4            3 ROOM       439910.47\n",
       "5            2 ROOM       340847.70\n",
       "6            1 ROOM       253363.64"
      ]
     },
     "execution_count": 127,
     "metadata": {},
     "output_type": "execute_result"
    }
   ],
   "source": [
    "query = 'select flat_type, round(avg(resale_price),2) as avg_flat_price from flat_data group by flat_type order by avg_flat_price desc'\n",
    "pd.read_sql(query, conn)"
   ]
  },
  {
   "cell_type": "markdown",
   "metadata": {},
   "source": [
    "Most expensive flat type: **MULTI-GENERATION** (avg. SGD 1049k)."
   ]
  },
  {
   "cell_type": "markdown",
   "metadata": {},
   "source": [
    "## Q4: Which towns have average resale prices higher than the national average?"
   ]
  },
  {
   "cell_type": "code",
   "execution_count": 152,
   "metadata": {},
   "outputs": [
    {
     "data": {
      "text/html": [
       "<div>\n",
       "<style scoped>\n",
       "    .dataframe tbody tr th:only-of-type {\n",
       "        vertical-align: middle;\n",
       "    }\n",
       "\n",
       "    .dataframe tbody tr th {\n",
       "        vertical-align: top;\n",
       "    }\n",
       "\n",
       "    .dataframe thead th {\n",
       "        text-align: right;\n",
       "    }\n",
       "</style>\n",
       "<table border=\"1\" class=\"dataframe\">\n",
       "  <thead>\n",
       "    <tr style=\"text-align: right;\">\n",
       "      <th></th>\n",
       "      <th>town</th>\n",
       "      <th>avg_resale_price</th>\n",
       "    </tr>\n",
       "  </thead>\n",
       "  <tbody>\n",
       "    <tr>\n",
       "      <th>0</th>\n",
       "      <td>BUKIT TIMAH</td>\n",
       "      <td>883392.774194</td>\n",
       "    </tr>\n",
       "    <tr>\n",
       "      <th>1</th>\n",
       "      <td>BISHAN</td>\n",
       "      <td>830693.714660</td>\n",
       "    </tr>\n",
       "    <tr>\n",
       "      <th>2</th>\n",
       "      <td>CENTRAL AREA</td>\n",
       "      <td>757515.750000</td>\n",
       "    </tr>\n",
       "    <tr>\n",
       "      <th>3</th>\n",
       "      <td>BUKIT MERAH</td>\n",
       "      <td>724272.811538</td>\n",
       "    </tr>\n",
       "    <tr>\n",
       "      <th>4</th>\n",
       "      <td>PASIR RIS</td>\n",
       "      <td>703587.846266</td>\n",
       "    </tr>\n",
       "    <tr>\n",
       "      <th>5</th>\n",
       "      <td>KALLANG/WHAMPOA</td>\n",
       "      <td>691353.645276</td>\n",
       "    </tr>\n",
       "    <tr>\n",
       "      <th>6</th>\n",
       "      <td>QUEENSTOWN</td>\n",
       "      <td>685510.997139</td>\n",
       "    </tr>\n",
       "    <tr>\n",
       "      <th>7</th>\n",
       "      <td>SERANGOON</td>\n",
       "      <td>672018.977324</td>\n",
       "    </tr>\n",
       "    <tr>\n",
       "      <th>8</th>\n",
       "      <td>TOA PAYOH</td>\n",
       "      <td>664599.637376</td>\n",
       "    </tr>\n",
       "    <tr>\n",
       "      <th>9</th>\n",
       "      <td>TAMPINES</td>\n",
       "      <td>657439.314635</td>\n",
       "    </tr>\n",
       "    <tr>\n",
       "      <th>10</th>\n",
       "      <td>PUNGGOL</td>\n",
       "      <td>642826.765895</td>\n",
       "    </tr>\n",
       "    <tr>\n",
       "      <th>11</th>\n",
       "      <td>SENGKANG</td>\n",
       "      <td>633938.176415</td>\n",
       "    </tr>\n",
       "    <tr>\n",
       "      <th>12</th>\n",
       "      <td>GEYLANG</td>\n",
       "      <td>613645.101799</td>\n",
       "    </tr>\n",
       "  </tbody>\n",
       "</table>\n",
       "</div>"
      ],
      "text/plain": [
       "               town  avg_resale_price\n",
       "0       BUKIT TIMAH     883392.774194\n",
       "1            BISHAN     830693.714660\n",
       "2      CENTRAL AREA     757515.750000\n",
       "3       BUKIT MERAH     724272.811538\n",
       "4         PASIR RIS     703587.846266\n",
       "5   KALLANG/WHAMPOA     691353.645276\n",
       "6        QUEENSTOWN     685510.997139\n",
       "7         SERANGOON     672018.977324\n",
       "8         TOA PAYOH     664599.637376\n",
       "9          TAMPINES     657439.314635\n",
       "10          PUNGGOL     642826.765895\n",
       "11         SENGKANG     633938.176415\n",
       "12          GEYLANG     613645.101799"
      ]
     },
     "execution_count": 152,
     "metadata": {},
     "output_type": "execute_result"
    }
   ],
   "source": [
    "query = '''\n",
    "        select town, avg(resale_price) as avg_resale_price \n",
    "        from flat_data \n",
    "        group by town \n",
    "        having avg_resale_price > \n",
    "            (\n",
    "                select avg(resale_price) from flat_data\n",
    "            ) \n",
    "        order by avg_resale_price desc\n",
    "        '''\n",
    "pd.read_sql(query, conn)"
   ]
  },
  {
   "cell_type": "markdown",
   "metadata": {},
   "source": [
    "## Q5: Find flats where the price is 20% higher than the average price in their town."
   ]
  },
  {
   "cell_type": "code",
   "execution_count": 151,
   "metadata": {},
   "outputs": [
    {
     "data": {
      "text/html": [
       "<div>\n",
       "<style scoped>\n",
       "    .dataframe tbody tr th:only-of-type {\n",
       "        vertical-align: middle;\n",
       "    }\n",
       "\n",
       "    .dataframe tbody tr th {\n",
       "        vertical-align: top;\n",
       "    }\n",
       "\n",
       "    .dataframe thead th {\n",
       "        text-align: right;\n",
       "    }\n",
       "</style>\n",
       "<table border=\"1\" class=\"dataframe\">\n",
       "  <thead>\n",
       "    <tr style=\"text-align: right;\">\n",
       "      <th></th>\n",
       "      <th>flat_type</th>\n",
       "      <th>town</th>\n",
       "      <th>resale_price</th>\n",
       "    </tr>\n",
       "  </thead>\n",
       "  <tbody>\n",
       "    <tr>\n",
       "      <th>0</th>\n",
       "      <td>5 ROOM</td>\n",
       "      <td>CENTRAL AREA</td>\n",
       "      <td>1450000.0</td>\n",
       "    </tr>\n",
       "    <tr>\n",
       "      <th>1</th>\n",
       "      <td>EXECUTIVE</td>\n",
       "      <td>BISHAN</td>\n",
       "      <td>1380000.0</td>\n",
       "    </tr>\n",
       "    <tr>\n",
       "      <th>2</th>\n",
       "      <td>EXECUTIVE</td>\n",
       "      <td>BUKIT TIMAH</td>\n",
       "      <td>1360000.0</td>\n",
       "    </tr>\n",
       "    <tr>\n",
       "      <th>3</th>\n",
       "      <td>EXECUTIVE</td>\n",
       "      <td>ANG MO KIO</td>\n",
       "      <td>1238888.0</td>\n",
       "    </tr>\n",
       "    <tr>\n",
       "      <th>4</th>\n",
       "      <td>EXECUTIVE</td>\n",
       "      <td>QUEENSTOWN</td>\n",
       "      <td>1228000.0</td>\n",
       "    </tr>\n",
       "  </tbody>\n",
       "</table>\n",
       "</div>"
      ],
      "text/plain": [
       "   flat_type          town  resale_price\n",
       "0     5 ROOM  CENTRAL AREA     1450000.0\n",
       "1  EXECUTIVE        BISHAN     1380000.0\n",
       "2  EXECUTIVE   BUKIT TIMAH     1360000.0\n",
       "3  EXECUTIVE    ANG MO KIO     1238888.0\n",
       "4  EXECUTIVE    QUEENSTOWN     1228000.0"
      ]
     },
     "execution_count": 151,
     "metadata": {},
     "output_type": "execute_result"
    }
   ],
   "source": [
    "query = '''\n",
    "        select flat_type, d1.town, d1.resale_price \n",
    "        from \n",
    "                (\n",
    "                        select flat_type, town, resale_price \n",
    "                        from flat_data \n",
    "                        group by flat_type, town\n",
    "                ) as d1\n",
    "                join \n",
    "                (\n",
    "                        select town, avg(resale_price) as avg_price\n",
    "                        from flat_data \n",
    "                        group by town\n",
    "                ) as d2\n",
    "                using (town)\n",
    "        where resale_price > (120*avg_price)/100\n",
    "        order by resale_price desc\n",
    "        limit 5\n",
    "        '''\n",
    "pd.read_sql(query, conn)"
   ]
  },
  {
   "cell_type": "markdown",
   "metadata": {},
   "source": [
    "## Q6: Compare each month’s average price to the previous month using subqueries."
   ]
  },
  {
   "cell_type": "code",
   "execution_count": 153,
   "metadata": {},
   "outputs": [
    {
     "data": {
      "text/html": [
       "<div>\n",
       "<style scoped>\n",
       "    .dataframe tbody tr th:only-of-type {\n",
       "        vertical-align: middle;\n",
       "    }\n",
       "\n",
       "    .dataframe tbody tr th {\n",
       "        vertical-align: top;\n",
       "    }\n",
       "\n",
       "    .dataframe thead th {\n",
       "        text-align: right;\n",
       "    }\n",
       "</style>\n",
       "<table border=\"1\" class=\"dataframe\">\n",
       "  <thead>\n",
       "    <tr style=\"text-align: right;\">\n",
       "      <th></th>\n",
       "      <th>month</th>\n",
       "      <th>curr_month_avg</th>\n",
       "      <th>prev_month_avg</th>\n",
       "    </tr>\n",
       "  </thead>\n",
       "  <tbody>\n",
       "    <tr>\n",
       "      <th>0</th>\n",
       "      <td>2024-01</td>\n",
       "      <td>591348.59</td>\n",
       "      <td>NaN</td>\n",
       "    </tr>\n",
       "    <tr>\n",
       "      <th>1</th>\n",
       "      <td>2024-02</td>\n",
       "      <td>585635.89</td>\n",
       "      <td>591348.59</td>\n",
       "    </tr>\n",
       "    <tr>\n",
       "      <th>2</th>\n",
       "      <td>2024-03</td>\n",
       "      <td>596945.80</td>\n",
       "      <td>585635.89</td>\n",
       "    </tr>\n",
       "    <tr>\n",
       "      <th>3</th>\n",
       "      <td>2024-04</td>\n",
       "      <td>592390.17</td>\n",
       "      <td>596945.80</td>\n",
       "    </tr>\n",
       "    <tr>\n",
       "      <th>4</th>\n",
       "      <td>2024-05</td>\n",
       "      <td>599861.58</td>\n",
       "      <td>592390.17</td>\n",
       "    </tr>\n",
       "    <tr>\n",
       "      <th>5</th>\n",
       "      <td>2024-06</td>\n",
       "      <td>620309.38</td>\n",
       "      <td>599861.58</td>\n",
       "    </tr>\n",
       "    <tr>\n",
       "      <th>6</th>\n",
       "      <td>2024-07</td>\n",
       "      <td>616816.87</td>\n",
       "      <td>620309.38</td>\n",
       "    </tr>\n",
       "    <tr>\n",
       "      <th>7</th>\n",
       "      <td>2024-08</td>\n",
       "      <td>621291.92</td>\n",
       "      <td>616816.87</td>\n",
       "    </tr>\n",
       "    <tr>\n",
       "      <th>8</th>\n",
       "      <td>2024-09</td>\n",
       "      <td>629234.95</td>\n",
       "      <td>621291.92</td>\n",
       "    </tr>\n",
       "    <tr>\n",
       "      <th>9</th>\n",
       "      <td>2024-10</td>\n",
       "      <td>629456.29</td>\n",
       "      <td>629234.95</td>\n",
       "    </tr>\n",
       "    <tr>\n",
       "      <th>10</th>\n",
       "      <td>2024-11</td>\n",
       "      <td>635358.04</td>\n",
       "      <td>629456.29</td>\n",
       "    </tr>\n",
       "    <tr>\n",
       "      <th>11</th>\n",
       "      <td>2024-12</td>\n",
       "      <td>637957.83</td>\n",
       "      <td>635358.04</td>\n",
       "    </tr>\n",
       "  </tbody>\n",
       "</table>\n",
       "</div>"
      ],
      "text/plain": [
       "      month  curr_month_avg  prev_month_avg\n",
       "0   2024-01       591348.59             NaN\n",
       "1   2024-02       585635.89       591348.59\n",
       "2   2024-03       596945.80       585635.89\n",
       "3   2024-04       592390.17       596945.80\n",
       "4   2024-05       599861.58       592390.17\n",
       "5   2024-06       620309.38       599861.58\n",
       "6   2024-07       616816.87       620309.38\n",
       "7   2024-08       621291.92       616816.87\n",
       "8   2024-09       629234.95       621291.92\n",
       "9   2024-10       629456.29       629234.95\n",
       "10  2024-11       635358.04       629456.29\n",
       "11  2024-12       637957.83       635358.04"
      ]
     },
     "execution_count": 153,
     "metadata": {},
     "output_type": "execute_result"
    }
   ],
   "source": [
    "query = '''\n",
    "        SELECT\n",
    "            strftime(\"%Y-%m\", h1.month) AS month,\n",
    "            round(h1.avg_price,2) as curr_month_avg,\n",
    "            (\n",
    "                SELECT round(AVG(resale_price),2)\n",
    "                FROM flat_data\n",
    "                WHERE strftime(\"%Y-%m\", date) = strftime(\"%Y-%m\", date(h1.month, '-1 month'))\n",
    "            ) AS prev_month_avg\n",
    "        FROM (\n",
    "            SELECT\n",
    "                date AS month,\n",
    "                AVG(resale_price) AS avg_price\n",
    "            FROM flat_data\n",
    "            GROUP BY strftime(\"%Y-%m\", date)\n",
    "        ) h1;\n",
    "        '''\n",
    "\n",
    "pd.read_sql(query, conn)"
   ]
  }
 ],
 "metadata": {
  "kernelspec": {
   "display_name": "dev_env",
   "language": "python",
   "name": "python3"
  },
  "language_info": {
   "codemirror_mode": {
    "name": "ipython",
    "version": 3
   },
   "file_extension": ".py",
   "mimetype": "text/x-python",
   "name": "python",
   "nbconvert_exporter": "python",
   "pygments_lexer": "ipython3",
   "version": "3.9.21"
  }
 },
 "nbformat": 4,
 "nbformat_minor": 2
}
